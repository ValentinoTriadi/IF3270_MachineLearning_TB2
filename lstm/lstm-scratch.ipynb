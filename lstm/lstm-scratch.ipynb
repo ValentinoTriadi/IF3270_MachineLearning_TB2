{
 "cells": [
  {
   "cell_type": "code",
   "execution_count": 85,
   "id": "d49a3cf7",
   "metadata": {},
   "outputs": [],
   "source": [
    "import pandas as pd\n",
    "import numpy as np\n",
    "from sklearn.metrics import f1_score\n",
    "import keras\n",
    "\n",
    "from preprocessing import LSTMPreprocess\n",
    "from model.embedding import EmbeddingScratch\n",
    "from model.bidirectional import BidirectionalScratch\n",
    "from model.dense import DenseScratch\n",
    "from model.sequential import ModelScratch"
   ]
  },
  {
   "cell_type": "code",
   "execution_count": 86,
   "id": "a5f0d724",
   "metadata": {},
   "outputs": [],
   "source": [
    "# Load Dataset\n",
    "test_set = pd.read_csv(\"data/test.csv\")"
   ]
  },
  {
   "cell_type": "code",
   "execution_count": 87,
   "id": "28335d96",
   "metadata": {},
   "outputs": [
    {
     "name": "stdout",
     "output_type": "stream",
     "text": [
      "Memproses dataset...\n"
     ]
    }
   ],
   "source": [
    "# Preprocess dataset (SPLIT)\n",
    "label_map = {\"positive\": 0, \"neutral\": 1, \"negative\": 2}\n",
    "label_reverse_map = {v: k for k, v in label_map.items()}\n",
    "num_classes = len(label_map)\n",
    "\n",
    "print(\"Memproses dataset...\")\n",
    "test_texts = test_set[\"text\"]\n",
    "test_labels = np.array(test_set[\"label\"].map(lambda x: label_map[x]))\n",
    "\n",
    "# Preprocess dataset (Tokenization)\n",
    "preprocess_cls = LSTMPreprocess()\n",
    "\n",
    "test_token = preprocess_cls.tokenization(test_texts)"
   ]
  },
  {
   "cell_type": "code",
   "execution_count": 88,
   "id": "42850dd5",
   "metadata": {},
   "outputs": [
    {
     "name": "stderr",
     "output_type": "stream",
     "text": [
      "WARNING:absl:Compiled the loaded model, but the compiled metrics have yet to be built. `model.compile_metrics` will be empty until you train or evaluate the model.\n"
     ]
    }
   ],
   "source": [
    "# Load Trained Model\n",
    "\n",
    "\"\"\"\n",
    "# 0. Embedding Layer\n",
    "# 1. Bidirectional LSTM Layer\n",
    "# 2. Dropout Layer\n",
    "# 3. Dense Layer (Hidden)\n",
    "# 4. Dropout Layer\n",
    "# 5. Dense Layer (Output)\n",
    "\"\"\"\n",
    "\n",
    "try:\n",
    "    model = keras.models.load_model('lstm_keras.h5')\n",
    "except OSError:\n",
    "    print(\"Model tidak ditemukan, silakan latih model terlebih dahulu dengan menjalankan 'lstm.ipynb'.\")\n",
    "    exit(1)\n",
    "\n",
    "\n",
    "embedding_weights = model.layers[0].get_weights()\n",
    "bidirectional_weights = model.layers[1].get_weights()\n",
    "dense1_weights = model.layers[3].get_weights()\n",
    "dense2_weights = model.layers[5].get_weights()"
   ]
  },
  {
   "cell_type": "code",
   "execution_count": 89,
   "id": "bef04a1f",
   "metadata": {},
   "outputs": [],
   "source": [
    "\n",
    "\n",
    "# Modeling\n",
    "# Dropout layers are not included because they have no use in foward pass\n",
    "\n",
    "# Make sure lstm units match the model's architecture\n",
    "lstm_units = 64 \n",
    "\n",
    "embedding_scratch = EmbeddingScratch(embedding_weights)\n",
    "bidirectional_scratch = BidirectionalScratch(lstm_units, bidirectional_weights)\n",
    "dense1_scratch = DenseScratch(dense1_weights, activation_name='relu')\n",
    "dense2_scratch = DenseScratch(dense2_weights, activation_name='softmax')\n",
    "\n",
    "scratch_model = ModelScratch([\n",
    "    embedding_scratch,\n",
    "    bidirectional_scratch,\n",
    "    dense1_scratch,\n",
    "    dense2_scratch\n",
    "])"
   ]
  },
  {
   "cell_type": "code",
   "execution_count": 90,
   "id": "bcb84a60",
   "metadata": {},
   "outputs": [
    {
     "name": "stdout",
     "output_type": "stream",
     "text": [
      "\u001b[1m13/13\u001b[0m \u001b[32m━━━━━━━━━━━━━━━━━━━━\u001b[0m\u001b[37m\u001b[0m \u001b[1m1s\u001b[0m 79ms/step\n",
      "\n",
      "--- Perbandingan Hasil ---\n",
      "F1 Score (Macro) Keras : 0.3744\n",
      "F1 Score (Macro) Scratch: 0.3044\n",
      "\n",
      "\n",
      "Contoh Prediksi (Scratch vs Keras vs Asli):\n",
      "Data ke-1: Scratch=negative, Keras=negative, True=positive\n",
      "Data ke-2: Scratch=negative, Keras=negative, True=neutral\n",
      "Data ke-3: Scratch=negative, Keras=negative, True=negative\n",
      "Data ke-4: Scratch=negative, Keras=negative, True=positive\n",
      "Data ke-5: Scratch=negative, Keras=negative, True=neutral\n",
      "\n"
     ]
    }
   ],
   "source": [
    "\n",
    "# Predict Scratch\n",
    "predictions_scratch_probs = scratch_model.predict(test_token)\n",
    "predicted_labels_scratch = np.argmax(predictions_scratch_probs, axis=1)\n",
    "\n",
    "# Predict Keras\n",
    "predictions_keras_probs = model.predict(test_token)\n",
    "predicted_labels_keras = np.argmax(predictions_keras_probs, axis=1)\n",
    "\n",
    "# Hitung dan Bandingkan F1 Score\n",
    "f1_keras = f1_score(test_labels, predicted_labels_keras, average='macro')\n",
    "f1_scratch = f1_score(test_labels, predicted_labels_scratch, average='macro')\n",
    "\n",
    "print()\n",
    "print(\"--- Perbandingan Hasil ---\")\n",
    "print(f\"F1 Score (Macro) Keras : {f1_keras:.4f}\")\n",
    "print(f\"F1 Score (Macro) Scratch: {f1_scratch:.4f}\")\n",
    "print()\n",
    "\n",
    "# Cek beberapa prediksi\n",
    "print()\n",
    "print(\"Contoh Prediksi (Scratch vs Keras vs Asli):\")\n",
    "for i in range(5):\n",
    "    print(f\"Data ke-{i+1}: Scratch={label_reverse_map[predicted_labels_scratch[i]]}, Keras={label_reverse_map[predicted_labels_keras[i]]}, True={label_reverse_map[test_labels[i]]}\")\n",
    "print()"
   ]
  }
 ],
 "metadata": {
  "kernelspec": {
   "display_name": "venv",
   "language": "python",
   "name": "python3"
  },
  "language_info": {
   "codemirror_mode": {
    "name": "ipython",
    "version": 3
   },
   "file_extension": ".py",
   "mimetype": "text/x-python",
   "name": "python",
   "nbconvert_exporter": "python",
   "pygments_lexer": "ipython3",
   "version": "3.12.7"
  }
 },
 "nbformat": 4,
 "nbformat_minor": 5
}
